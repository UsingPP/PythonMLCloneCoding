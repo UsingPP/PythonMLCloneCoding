{
 "cells": [
  {
   "cell_type": "markdown",
   "metadata": {},
   "source": [
    "# Gradient Descent\n",
    "### 경사하강법"
   ]
  },
  {
   "cell_type": "code",
   "execution_count": 1,
   "metadata": {},
   "outputs": [],
   "source": [
    "import matplotlib.pyplot as pit\n",
    "import pandas as pd"
   ]
  },
  {
   "cell_type": "code",
   "execution_count": 5,
   "metadata": {},
   "outputs": [],
   "source": [
    "dataset = pd.read_csv(\"LinearRegressionData.csv\")"
   ]
  },
  {
   "cell_type": "code",
   "execution_count": 6,
   "metadata": {},
   "outputs": [],
   "source": [
    "X = dataset.iloc[:, :-1]\n",
    "y = dataset.iloc[:, -1]"
   ]
  },
  {
   "cell_type": "code",
   "execution_count": 8,
   "metadata": {},
   "outputs": [],
   "source": [
    "from sklearn.model_selection import train_test_split\n",
    "X_train, X_test, y_train, y_test = train_test_split(X,y, test_size = 0.2, random_state = 0) # 훈련세트는 90, 테스트는 20"
   ]
  },
  {
   "cell_type": "markdown",
   "metadata": {},
   "source": [
    "max_iter : 훈련 세트 반복 횟수\n",
    "eta0: 학습률 (learning rate)"
   ]
  },
  {
   "cell_type": "code",
   "execution_count": 25,
   "metadata": {},
   "outputs": [
    {
     "name": "stdout",
     "output_type": "stream",
     "text": [
      "-- Epoch 1\n",
      "Norm: 0.27, NNZs: 1, Bias: 0.048869, T: 16, Avg. loss: 1484.241876\n",
      "Total training time: 0.00 seconds.\n",
      "-- Epoch 2\n",
      "Norm: 0.47, NNZs: 1, Bias: 0.083896, T: 32, Avg. loss: 1419.741822\n",
      "Total training time: 0.00 seconds.\n",
      "-- Epoch 3\n",
      "Norm: 0.64, NNZs: 1, Bias: 0.114272, T: 48, Avg. loss: 1367.983092\n",
      "Total training time: 0.00 seconds.\n",
      "-- Epoch 4\n",
      "Norm: 0.79, NNZs: 1, Bias: 0.141552, T: 64, Avg. loss: 1322.870279\n",
      "Total training time: 0.00 seconds.\n",
      "-- Epoch 5\n",
      "Norm: 0.94, NNZs: 1, Bias: 0.166772, T: 80, Avg. loss: 1282.550224\n",
      "Total training time: 0.00 seconds.\n",
      "-- Epoch 6\n",
      "Norm: 1.07, NNZs: 1, Bias: 0.190476, T: 96, Avg. loss: 1245.587071\n",
      "Total training time: 0.00 seconds.\n",
      "-- Epoch 7\n",
      "Norm: 1.20, NNZs: 1, Bias: 0.212877, T: 112, Avg. loss: 1211.227118\n",
      "Total training time: 0.01 seconds.\n",
      "-- Epoch 8\n",
      "Norm: 1.32, NNZs: 1, Bias: 0.234194, T: 128, Avg. loss: 1179.037565\n",
      "Total training time: 0.01 seconds.\n",
      "-- Epoch 9\n",
      "Norm: 1.43, NNZs: 1, Bias: 0.254556, T: 144, Avg. loss: 1148.814106\n",
      "Total training time: 0.01 seconds.\n",
      "-- Epoch 10\n",
      "Norm: 1.54, NNZs: 1, Bias: 0.274134, T: 160, Avg. loss: 1120.251662\n",
      "Total training time: 0.01 seconds.\n",
      "-- Epoch 11\n",
      "Norm: 1.65, NNZs: 1, Bias: 0.292981, T: 176, Avg. loss: 1093.110571\n",
      "Total training time: 0.01 seconds.\n",
      "-- Epoch 12\n",
      "Norm: 1.75, NNZs: 1, Bias: 0.311189, T: 192, Avg. loss: 1067.211902\n",
      "Total training time: 0.01 seconds.\n",
      "-- Epoch 13\n",
      "Norm: 1.85, NNZs: 1, Bias: 0.328785, T: 208, Avg. loss: 1042.516297\n",
      "Total training time: 0.01 seconds.\n",
      "-- Epoch 14\n",
      "Norm: 1.95, NNZs: 1, Bias: 0.345870, T: 224, Avg. loss: 1018.879566\n",
      "Total training time: 0.01 seconds.\n",
      "-- Epoch 15\n",
      "Norm: 2.04, NNZs: 1, Bias: 0.362460, T: 240, Avg. loss: 996.181074\n",
      "Total training time: 0.01 seconds.\n",
      "-- Epoch 16\n",
      "Norm: 2.13, NNZs: 1, Bias: 0.378587, T: 256, Avg. loss: 974.361266\n",
      "Total training time: 0.01 seconds.\n",
      "-- Epoch 17\n",
      "Norm: 2.22, NNZs: 1, Bias: 0.394284, T: 272, Avg. loss: 953.386926\n",
      "Total training time: 0.01 seconds.\n",
      "-- Epoch 18\n",
      "Norm: 2.31, NNZs: 1, Bias: 0.409594, T: 288, Avg. loss: 933.187164\n",
      "Total training time: 0.01 seconds.\n",
      "-- Epoch 19\n",
      "Norm: 2.39, NNZs: 1, Bias: 0.424528, T: 304, Avg. loss: 913.690408\n",
      "Total training time: 0.01 seconds.\n",
      "-- Epoch 20\n",
      "Norm: 2.48, NNZs: 1, Bias: 0.439104, T: 320, Avg. loss: 894.861051\n",
      "Total training time: 0.01 seconds.\n",
      "-- Epoch 21\n",
      "Norm: 2.56, NNZs: 1, Bias: 0.453350, T: 336, Avg. loss: 876.666125\n",
      "Total training time: 0.01 seconds.\n",
      "-- Epoch 22\n",
      "Norm: 2.64, NNZs: 1, Bias: 0.467285, T: 352, Avg. loss: 859.068639\n",
      "Total training time: 0.01 seconds.\n",
      "-- Epoch 23\n",
      "Norm: 2.71, NNZs: 1, Bias: 0.480921, T: 368, Avg. loss: 842.018081\n",
      "Total training time: 0.01 seconds.\n",
      "-- Epoch 24\n",
      "Norm: 2.79, NNZs: 1, Bias: 0.494273, T: 384, Avg. loss: 825.486145\n",
      "Total training time: 0.01 seconds.\n",
      "-- Epoch 25\n",
      "Norm: 2.86, NNZs: 1, Bias: 0.507351, T: 400, Avg. loss: 809.468053\n",
      "Total training time: 0.01 seconds.\n",
      "-- Epoch 26\n",
      "Norm: 2.94, NNZs: 1, Bias: 0.520178, T: 416, Avg. loss: 793.927559\n",
      "Total training time: 0.01 seconds.\n",
      "-- Epoch 27\n",
      "Norm: 3.01, NNZs: 1, Bias: 0.532755, T: 432, Avg. loss: 778.832690\n",
      "Total training time: 0.01 seconds.\n",
      "-- Epoch 28\n",
      "Norm: 3.08, NNZs: 1, Bias: 0.545094, T: 448, Avg. loss: 764.166106\n",
      "Total training time: 0.01 seconds.\n",
      "-- Epoch 29\n",
      "Norm: 3.15, NNZs: 1, Bias: 0.557201, T: 464, Avg. loss: 749.924129\n",
      "Total training time: 0.01 seconds.\n",
      "-- Epoch 30\n",
      "Norm: 3.21, NNZs: 1, Bias: 0.569097, T: 480, Avg. loss: 736.071588\n",
      "Total training time: 0.02 seconds.\n",
      "-- Epoch 31\n",
      "Norm: 3.28, NNZs: 1, Bias: 0.580779, T: 496, Avg. loss: 722.588889\n",
      "Total training time: 0.02 seconds.\n",
      "-- Epoch 32\n",
      "Norm: 3.35, NNZs: 1, Bias: 0.592258, T: 512, Avg. loss: 709.462708\n",
      "Total training time: 0.02 seconds.\n",
      "-- Epoch 33\n",
      "Norm: 3.41, NNZs: 1, Bias: 0.603540, T: 528, Avg. loss: 696.686817\n",
      "Total training time: 0.02 seconds.\n",
      "-- Epoch 34\n",
      "Norm: 3.47, NNZs: 1, Bias: 0.614639, T: 544, Avg. loss: 684.244367\n",
      "Total training time: 0.02 seconds.\n",
      "-- Epoch 35\n",
      "Norm: 3.53, NNZs: 1, Bias: 0.625553, T: 560, Avg. loss: 672.113885\n",
      "Total training time: 0.02 seconds.\n",
      "-- Epoch 36\n",
      "Norm: 3.60, NNZs: 1, Bias: 0.636290, T: 576, Avg. loss: 660.287442\n",
      "Total training time: 0.02 seconds.\n",
      "-- Epoch 37\n",
      "Norm: 3.65, NNZs: 1, Bias: 0.646855, T: 592, Avg. loss: 648.762655\n",
      "Total training time: 0.02 seconds.\n",
      "-- Epoch 38\n",
      "Norm: 3.71, NNZs: 1, Bias: 0.657258, T: 608, Avg. loss: 637.523840\n",
      "Total training time: 0.02 seconds.\n",
      "-- Epoch 39\n",
      "Norm: 3.77, NNZs: 1, Bias: 0.667499, T: 624, Avg. loss: 626.551012\n",
      "Total training time: 0.02 seconds.\n",
      "-- Epoch 40\n",
      "Norm: 3.83, NNZs: 1, Bias: 0.677582, T: 640, Avg. loss: 615.839418\n",
      "Total training time: 0.02 seconds.\n",
      "-- Epoch 41\n",
      "Norm: 3.89, NNZs: 1, Bias: 0.687514, T: 656, Avg. loss: 605.386802\n",
      "Total training time: 0.02 seconds.\n",
      "-- Epoch 42\n",
      "Norm: 3.94, NNZs: 1, Bias: 0.697302, T: 672, Avg. loss: 595.179604\n",
      "Total training time: 0.02 seconds.\n",
      "-- Epoch 43\n",
      "Norm: 4.00, NNZs: 1, Bias: 0.706946, T: 688, Avg. loss: 585.205525\n",
      "Total training time: 0.02 seconds.\n",
      "-- Epoch 44\n",
      "Norm: 4.05, NNZs: 1, Bias: 0.716450, T: 704, Avg. loss: 575.458493\n",
      "Total training time: 0.02 seconds.\n",
      "-- Epoch 45\n",
      "Norm: 4.10, NNZs: 1, Bias: 0.725819, T: 720, Avg. loss: 565.937753\n",
      "Total training time: 0.02 seconds.\n",
      "-- Epoch 46\n",
      "Norm: 4.16, NNZs: 1, Bias: 0.735059, T: 736, Avg. loss: 556.633179\n",
      "Total training time: 0.02 seconds.\n",
      "-- Epoch 47\n",
      "Norm: 4.21, NNZs: 1, Bias: 0.744168, T: 752, Avg. loss: 547.533995\n",
      "Total training time: 0.02 seconds.\n",
      "-- Epoch 48\n",
      "Norm: 4.26, NNZs: 1, Bias: 0.753152, T: 768, Avg. loss: 538.632849\n",
      "Total training time: 0.02 seconds.\n",
      "-- Epoch 49\n",
      "Norm: 4.31, NNZs: 1, Bias: 0.762013, T: 784, Avg. loss: 529.930377\n",
      "Total training time: 0.02 seconds.\n",
      "-- Epoch 50\n",
      "Norm: 4.36, NNZs: 1, Bias: 0.770757, T: 800, Avg. loss: 521.417265\n",
      "Total training time: 0.02 seconds.\n",
      "-- Epoch 51\n",
      "Norm: 4.41, NNZs: 1, Bias: 0.779384, T: 816, Avg. loss: 513.084023\n",
      "Total training time: 0.02 seconds.\n",
      "-- Epoch 52\n",
      "Norm: 4.46, NNZs: 1, Bias: 0.787897, T: 832, Avg. loss: 504.927495\n",
      "Total training time: 0.03 seconds.\n",
      "-- Epoch 53\n",
      "Norm: 4.50, NNZs: 1, Bias: 0.796299, T: 848, Avg. loss: 496.946253\n",
      "Total training time: 0.03 seconds.\n",
      "-- Epoch 54\n",
      "Norm: 4.55, NNZs: 1, Bias: 0.804596, T: 864, Avg. loss: 489.133754\n",
      "Total training time: 0.03 seconds.\n",
      "-- Epoch 55\n",
      "Norm: 4.60, NNZs: 1, Bias: 0.812785, T: 880, Avg. loss: 481.481960\n",
      "Total training time: 0.03 seconds.\n",
      "-- Epoch 56\n",
      "Norm: 4.64, NNZs: 1, Bias: 0.820869, T: 896, Avg. loss: 473.988460\n",
      "Total training time: 0.03 seconds.\n",
      "-- Epoch 57\n",
      "Norm: 4.69, NNZs: 1, Bias: 0.828852, T: 912, Avg. loss: 466.649980\n",
      "Total training time: 0.03 seconds.\n",
      "-- Epoch 58\n",
      "Norm: 4.73, NNZs: 1, Bias: 0.836738, T: 928, Avg. loss: 459.461740\n",
      "Total training time: 0.03 seconds.\n",
      "-- Epoch 59\n",
      "Norm: 4.78, NNZs: 1, Bias: 0.844525, T: 944, Avg. loss: 452.416650\n",
      "Total training time: 0.03 seconds.\n",
      "-- Epoch 60\n",
      "Norm: 4.82, NNZs: 1, Bias: 0.852216, T: 960, Avg. loss: 445.511862\n",
      "Total training time: 0.03 seconds.\n",
      "-- Epoch 61\n",
      "Norm: 4.86, NNZs: 1, Bias: 0.859815, T: 976, Avg. loss: 438.747190\n",
      "Total training time: 0.03 seconds.\n",
      "-- Epoch 62\n",
      "Norm: 4.91, NNZs: 1, Bias: 0.867324, T: 992, Avg. loss: 432.117062\n",
      "Total training time: 0.03 seconds.\n",
      "-- Epoch 63\n",
      "Norm: 4.95, NNZs: 1, Bias: 0.874743, T: 1008, Avg. loss: 425.615654\n",
      "Total training time: 0.03 seconds.\n",
      "-- Epoch 64\n",
      "Norm: 4.99, NNZs: 1, Bias: 0.882073, T: 1024, Avg. loss: 419.241080\n",
      "Total training time: 0.04 seconds.\n",
      "-- Epoch 65\n",
      "Norm: 5.03, NNZs: 1, Bias: 0.889318, T: 1040, Avg. loss: 412.993260\n",
      "Total training time: 0.04 seconds.\n",
      "-- Epoch 66\n",
      "Norm: 5.07, NNZs: 1, Bias: 0.896479, T: 1056, Avg. loss: 406.865688\n",
      "Total training time: 0.04 seconds.\n",
      "-- Epoch 67\n",
      "Norm: 5.11, NNZs: 1, Bias: 0.903557, T: 1072, Avg. loss: 400.853820\n",
      "Total training time: 0.04 seconds.\n",
      "-- Epoch 68\n",
      "Norm: 5.15, NNZs: 1, Bias: 0.910553, T: 1088, Avg. loss: 394.956171\n",
      "Total training time: 0.04 seconds.\n",
      "-- Epoch 69\n",
      "Norm: 5.19, NNZs: 1, Bias: 0.917469, T: 1104, Avg. loss: 389.171934\n",
      "Total training time: 0.04 seconds.\n",
      "-- Epoch 70\n",
      "Norm: 5.23, NNZs: 1, Bias: 0.924310, T: 1120, Avg. loss: 383.497301\n",
      "Total training time: 0.04 seconds.\n",
      "-- Epoch 71\n",
      "Norm: 5.27, NNZs: 1, Bias: 0.931072, T: 1136, Avg. loss: 377.927308\n",
      "Total training time: 0.04 seconds.\n",
      "-- Epoch 72\n",
      "Norm: 5.31, NNZs: 1, Bias: 0.937759, T: 1152, Avg. loss: 372.461042\n",
      "Total training time: 0.04 seconds.\n",
      "-- Epoch 73\n",
      "Norm: 5.34, NNZs: 1, Bias: 0.944372, T: 1168, Avg. loss: 367.098186\n",
      "Total training time: 0.04 seconds.\n",
      "-- Epoch 74\n",
      "Norm: 5.38, NNZs: 1, Bias: 0.950913, T: 1184, Avg. loss: 361.834923\n",
      "Total training time: 0.04 seconds.\n",
      "-- Epoch 75\n",
      "Norm: 5.42, NNZs: 1, Bias: 0.957382, T: 1200, Avg. loss: 356.666286\n",
      "Total training time: 0.04 seconds.\n",
      "-- Epoch 76\n",
      "Norm: 5.45, NNZs: 1, Bias: 0.963780, T: 1216, Avg. loss: 351.591629\n",
      "Total training time: 0.04 seconds.\n",
      "-- Epoch 77\n",
      "Norm: 5.49, NNZs: 1, Bias: 0.970109, T: 1232, Avg. loss: 346.610614\n",
      "Total training time: 0.04 seconds.\n",
      "-- Epoch 78\n",
      "Norm: 5.53, NNZs: 1, Bias: 0.976371, T: 1248, Avg. loss: 341.719867\n",
      "Total training time: 0.04 seconds.\n",
      "-- Epoch 79\n",
      "Norm: 5.56, NNZs: 1, Bias: 0.982566, T: 1264, Avg. loss: 336.915616\n",
      "Total training time: 0.04 seconds.\n",
      "-- Epoch 80\n",
      "Norm: 5.60, NNZs: 1, Bias: 0.988694, T: 1280, Avg. loss: 332.197009\n",
      "Total training time: 0.04 seconds.\n",
      "-- Epoch 81\n",
      "Norm: 5.63, NNZs: 1, Bias: 0.994759, T: 1296, Avg. loss: 327.563942\n",
      "Total training time: 0.04 seconds.\n",
      "-- Epoch 82\n",
      "Norm: 5.66, NNZs: 1, Bias: 1.000761, T: 1312, Avg. loss: 323.013592\n",
      "Total training time: 0.04 seconds.\n",
      "-- Epoch 83\n",
      "Norm: 5.70, NNZs: 1, Bias: 1.006700, T: 1328, Avg. loss: 318.542530\n",
      "Total training time: 0.04 seconds.\n",
      "-- Epoch 84\n",
      "Norm: 5.73, NNZs: 1, Bias: 1.012576, T: 1344, Avg. loss: 314.149409\n",
      "Total training time: 0.04 seconds.\n",
      "-- Epoch 85\n",
      "Norm: 5.76, NNZs: 1, Bias: 1.018393, T: 1360, Avg. loss: 309.834310\n",
      "Total training time: 0.04 seconds.\n",
      "-- Epoch 86\n",
      "Norm: 5.80, NNZs: 1, Bias: 1.024151, T: 1376, Avg. loss: 305.594532\n",
      "Total training time: 0.04 seconds.\n",
      "-- Epoch 87\n",
      "Norm: 5.83, NNZs: 1, Bias: 1.029849, T: 1392, Avg. loss: 301.427018\n",
      "Total training time: 0.05 seconds.\n",
      "-- Epoch 88\n",
      "Norm: 5.86, NNZs: 1, Bias: 1.035489, T: 1408, Avg. loss: 297.331213\n",
      "Total training time: 0.05 seconds.\n",
      "-- Epoch 89\n",
      "Norm: 5.89, NNZs: 1, Bias: 1.041072, T: 1424, Avg. loss: 293.306757\n",
      "Total training time: 0.05 seconds.\n",
      "-- Epoch 90\n",
      "Norm: 5.93, NNZs: 1, Bias: 1.046601, T: 1440, Avg. loss: 289.351553\n",
      "Total training time: 0.05 seconds.\n",
      "-- Epoch 91\n",
      "Norm: 5.96, NNZs: 1, Bias: 1.052074, T: 1456, Avg. loss: 285.462832\n",
      "Total training time: 0.05 seconds.\n",
      "-- Epoch 92\n",
      "Norm: 5.99, NNZs: 1, Bias: 1.057492, T: 1472, Avg. loss: 281.640289\n",
      "Total training time: 0.05 seconds.\n",
      "-- Epoch 93\n",
      "Norm: 6.02, NNZs: 1, Bias: 1.062856, T: 1488, Avg. loss: 277.882959\n",
      "Total training time: 0.05 seconds.\n",
      "-- Epoch 94\n",
      "Norm: 6.05, NNZs: 1, Bias: 1.068169, T: 1504, Avg. loss: 274.189046\n",
      "Total training time: 0.05 seconds.\n",
      "-- Epoch 95\n",
      "Norm: 6.08, NNZs: 1, Bias: 1.073429, T: 1520, Avg. loss: 270.556109\n",
      "Total training time: 0.05 seconds.\n",
      "-- Epoch 96\n",
      "Norm: 6.11, NNZs: 1, Bias: 1.078637, T: 1536, Avg. loss: 266.983675\n",
      "Total training time: 0.05 seconds.\n",
      "-- Epoch 97\n",
      "Norm: 6.14, NNZs: 1, Bias: 1.083795, T: 1552, Avg. loss: 263.471607\n",
      "Total training time: 0.05 seconds.\n",
      "-- Epoch 98\n",
      "Norm: 6.17, NNZs: 1, Bias: 1.088904, T: 1568, Avg. loss: 260.017988\n",
      "Total training time: 0.05 seconds.\n",
      "-- Epoch 99\n",
      "Norm: 6.19, NNZs: 1, Bias: 1.093963, T: 1584, Avg. loss: 256.620516\n",
      "Total training time: 0.05 seconds.\n",
      "-- Epoch 100\n",
      "Norm: 6.22, NNZs: 1, Bias: 1.098974, T: 1600, Avg. loss: 253.278959\n",
      "Total training time: 0.05 seconds.\n"
     ]
    },
    {
     "name": "stderr",
     "output_type": "stream",
     "text": [
      "C:\\Users\\KimYeongwon\\AppData\\Roaming\\Python\\Python37\\site-packages\\sklearn\\linear_model\\_stochastic_gradient.py:1507: ConvergenceWarning: Maximum number of iteration reached before convergence. Consider increasing max_iter to improve the fit.\n",
      "  ConvergenceWarning,\n"
     ]
    },
    {
     "data": {
      "text/plain": [
       "SGDRegressor(eta0=0.0001, max_iter=100, random_state=0, verbose=1)"
      ]
     },
     "execution_count": 25,
     "metadata": {},
     "output_type": "execute_result"
    }
   ],
   "source": [
    "from sklearn.linear_model import SGDRegressor\n",
    "sr = SGDRegressor(max_iter = 100, eta0 = 1e-4, random_state = 0, verbose = 1) # 생성자에 반복 횟수 max_iter\n",
    "sr.fit(X_train, y_train)"
   ]
  },
  {
   "cell_type": "code",
   "execution_count": 26,
   "metadata": {},
   "outputs": [
    {
     "data": {
      "image/png": "[encoded data removed]",
      "text/plain": [
       "<Figure size 432x288 with 1 Axes>"
      ]
     },
     "metadata": {
      "needs_background": "light"
     },
     "output_type": "display_data"
    }
   ],
   "source": [
    "pit.scatter(X_train, y_train, color = 'blue') # 점 그래프\n",
    "pit.plot(X_train, sr.predict(X_train), color = 'green') # 선 그래프\n",
    "pit.title(\"Score by hours(Train Data , SGD)\")\n",
    "pit.xlabel(\"hours\")\n",
    "pit.ylabel(\"score\")\n",
    "pit.show()"
   ]
  },
  {
   "cell_type": "code",
   "execution_count": 27,
   "metadata": {},
   "outputs": [
    {
     "data": {
      "text/plain": [
       "0.5291809370614631"
      ]
     },
     "execution_count": 27,
     "metadata": {},
     "output_type": "execute_result"
    }
   ],
   "source": [
    "sr.score(X_test, y_test)"
   ]
  },
  {
   "cell_type": "code",
   "execution_count": 28,
   "metadata": {},
   "outputs": [
    {
     "data": {
      "text/plain": [
       "array([6.22306215])"
      ]
     },
     "execution_count": 28,
     "metadata": {},
     "output_type": "execute_result"
    }
   ],
   "source": [
    "sr.coef_# 기울기"
   ]
  },
  {
   "cell_type": "code",
   "execution_count": 29,
   "metadata": {},
   "outputs": [
    {
     "data": {
      "text/plain": [
       "array([1.09897369])"
      ]
     },
     "execution_count": 29,
     "metadata": {},
     "output_type": "execute_result"
    }
   ],
   "source": [
    "sr.intercept_ # y절편"
   ]
  },
  {
   "cell_type": "code",
   "execution_count": 30,
   "metadata": {},
   "outputs": [
    {
     "data": {
      "text/plain": [
       "0.037325008193417"
      ]
     },
     "execution_count": 30,
     "metadata": {},
     "output_type": "execute_result"
    }
   ],
   "source": [
    "sr.score(X_train, y_train)"
   ]
  },
  {
   "cell_type": "code",
   "execution_count": null,
   "metadata": {},
   "outputs": [],
   "source": []
  }
 ],
 "metadata": {
  "kernelspec": {
   "display_name": "Python 3",
   "language": "python",
   "name": "python3"
  },
  "language_info": {
   "codemirror_mode": {
    "name": "ipython",
    "version": 3
   },
   "file_extension": ".py",
   "mimetype": "text/x-python",
   "name": "python",
   "nbconvert_exporter": "python",
   "pygments_lexer": "ipython3",
   "version": "3.7.6"
  }
 },
 "nbformat": 4,
 "nbformat_minor": 4
}
